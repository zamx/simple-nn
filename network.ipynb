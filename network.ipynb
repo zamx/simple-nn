{
 "cells": [
  {
   "cell_type": "code",
   "execution_count": 1,
   "id": "ad5a1e1d-2c39-439e-b5ad-7c7505940c1c",
   "metadata": {},
   "outputs": [],
   "source": [
    "from fastai.vision.all import *"
   ]
  },
  {
   "cell_type": "markdown",
   "id": "d4534610-3a3f-46d5-bff2-76bc337e80c4",
   "metadata": {},
   "source": [
    "Load training data"
   ]
  },
  {
   "cell_type": "code",
   "execution_count": 2,
   "id": "79343eb3-eb81-46a9-92e0-f9f43eb8ca8e",
   "metadata": {},
   "outputs": [],
   "source": [
    "tensor_list = torch.load( \"training_data.pt\" )"
   ]
  },
  {
   "cell_type": "markdown",
   "id": "a06e896a-b811-4f10-b455-d758b014548b",
   "metadata": {},
   "source": [
    "Load test data"
   ]
  },
  {
   "cell_type": "code",
   "execution_count": 3,
   "id": "6fc71115-a336-4549-8495-3b20f18212f9",
   "metadata": {},
   "outputs": [],
   "source": [
    "test_list = torch.load(\"test_data.pt\")"
   ]
  },
  {
   "cell_type": "markdown",
   "id": "a616adf3-bc5b-4fb7-947d-70257e2c8f39",
   "metadata": {},
   "source": [
    "Normalize"
   ]
  },
  {
   "cell_type": "code",
   "execution_count": 4,
   "id": "8803de84-e092-48ea-a3e4-98c0ab4f8156",
   "metadata": {},
   "outputs": [],
   "source": [
    "def normalize(tensor):\n",
    "    return tensor.float() / 255\n",
    "\n",
    "tensor_list = list(map(normalize, tensor_list))\n",
    "test_list = list(map(normalize, test_list))"
   ]
  },
  {
   "cell_type": "markdown",
   "id": "9e899eca-6512-4456-b98a-04b6380af085",
   "metadata": {},
   "source": [
    "Baseline"
   ]
  },
  {
   "cell_type": "code",
   "execution_count": 5,
   "id": "cc2fbd69-dc4b-4bef-85e0-c01f967346a8",
   "metadata": {},
   "outputs": [
    {
     "data": {
      "text/plain": [
       "10"
      ]
     },
     "execution_count": 5,
     "metadata": {},
     "output_type": "execute_result"
    }
   ],
   "source": [
    "mean_tensors = [tensor.mean(0) for tensor in tensor_list]\n",
    "len(mean_tensors)"
   ]
  },
  {
   "cell_type": "code",
   "execution_count": 6,
   "id": "559acf7f-78e4-452c-9627-2d8b9e7b3b5c",
   "metadata": {},
   "outputs": [
    {
     "data": {
      "text/plain": [
       "[tensor(True),\n",
       " tensor(True),\n",
       " tensor(True),\n",
       " tensor(True),\n",
       " tensor(True),\n",
       " tensor(False),\n",
       " tensor(True),\n",
       " tensor(True),\n",
       " tensor(True),\n",
       " tensor(True)]"
      ]
     },
     "execution_count": 6,
     "metadata": {},
     "output_type": "execute_result"
    }
   ],
   "source": [
    "def mseMean(mean, tensor):\n",
    "    return  F.mse_loss(mean, tensor).sqrt()\n",
    "\n",
    "def mseMeanList(means, tensor):\n",
    "    return torch.stack( [mseMean(mean,tensor) for mean in means] )\n",
    "\n",
    "def predict(means, tests, index):\n",
    "    return torch.argmin( mseMeanList(means, tests[index][0]) ) == index\n",
    "\n",
    "prediction = [predict(mean_tensors, test_list, i) for i in range(len(test_list))]\n",
    "prediction"
   ]
  },
  {
   "cell_type": "markdown",
   "id": "18fe43c9-9ac7-4361-a20a-620ec5916dd7",
   "metadata": {},
   "source": [
    "Simple network"
   ]
  },
  {
   "cell_type": "code",
   "execution_count": 90,
   "id": "11e03ff9-004d-496d-9c23-0ca5f42867fa",
   "metadata": {},
   "outputs": [],
   "source": [
    "class BasicOptimizer:\n",
    "    def __init__(self, model, lr):\n",
    "        self.model = model\n",
    "        self.lr = lr\n",
    "           \n",
    "    def step(self):\n",
    "        self.model.w1.data = self.model.w1.data - self.lr * self.model.w1.grad.data\n",
    "        self.model.b1.data = self.model.b1.data - self.lr * self.model.b1.grad.data\n",
    "        self.model.w2.data = self.model.w2.data - self.lr * self.model.w2.grad.data\n",
    "        self.model.b2.data = self.model.b2.data - self.lr * self.model.b2.grad.data\n",
    "    \n",
    "    def zero_grad(self):\n",
    "        self.model.w1.grad = None\n",
    "        self.model.b1.grad = None\n",
    "        self.model.w2.grad = None\n",
    "        self.model.b2.grad = None\n",
    "        \n",
    "class Model:\n",
    "    def __init__(self):\n",
    "        self.w1 = self.init_parameters((28*28,30))\n",
    "        self.b1 = self.init_parameters(30)\n",
    "        self.w2 = self.init_parameters((30,10))\n",
    "        self.b2 = self.init_parameters(10)\n",
    "        \n",
    "    def init_parameters(self, size):\n",
    "        return torch.randn(size).requires_grad_()\n",
    "        \n",
    "    def compute(self, x):\n",
    "        res = x@self.w1 + self.b1\n",
    "        res = res.max(tensor(0.0))\n",
    "        res = res@self.w2 + self.b2\n",
    "        res = torch.nn.functional.softmax( res )\n",
    "        return res\n",
    "        \n",
    "class SimpleNetwork:\n",
    "    def __init__(self, dl, val_dl, model, optimizer):\n",
    "        self.dl = dl\n",
    "        self.val_dl = val_dl\n",
    "        self.model = model\n",
    "        self.optimizer = optimizer\n",
    "    \n",
    "    def prediction(self, x):\n",
    "        return self.model.compute(x)\n",
    "    \n",
    "    def loss(self, pred, target):\n",
    "        return torch.nn.functional.cross_entropy(pred, target)\n",
    "    \n",
    "    def step(self, x, y):\n",
    "        pred = self.prediction(x)\n",
    "        loss = self.loss(pred, y)\n",
    "        loss.backward()\n",
    "        self.optimizer.step()\n",
    "        self.optimizer.zero_grad()\n",
    "        \n",
    "    def validate(self, x, y):\n",
    "        with torch.no_grad():\n",
    "            pred = self.prediction(x)\n",
    "            val = torch.eq(\n",
    "                torch.argmax( pred, dim=1 ),\n",
    "                torch.argmax( y, dim=1 )\n",
    "            ).float().mean()\n",
    "        return val\n",
    "              \n",
    "    def learn(self, epochs):\n",
    "        for epoch in range(epochs):\n",
    "            print( \"epoch \" + str(epoch) )\n",
    "            for xb, yb in self.dl:\n",
    "                self.step(xb, yb)\n",
    "                \n",
    "            accs = [ self.validate(val_xb, val_yb) for val_xb, val_yb in self.val_dl ]\n",
    "            acc = round( torch.stack( accs ).mean().item(), 4 )\n",
    "            print(\"Accuracy \" + str(acc))\n",
    "                "
   ]
  },
  {
   "cell_type": "markdown",
   "id": "f3cfa9ca-02be-4ea0-876b-cdb26a4f9bfb",
   "metadata": {},
   "source": [
    "Create training data"
   ]
  },
  {
   "cell_type": "code",
   "execution_count": 8,
   "id": "6b0a4589-c110-4ba3-b442-9c6e0b62f43f",
   "metadata": {},
   "outputs": [
    {
     "data": {
      "text/plain": [
       "(torch.Size([60000, 784]), torch.Size([60000, 10]))"
      ]
     },
     "execution_count": 8,
     "metadata": {},
     "output_type": "execute_result"
    }
   ],
   "source": [
    "def target(size, index):\n",
    "    tensor = torch.zeros(len(tensor_list))\n",
    "    tensor[index] = 1\n",
    "    return tensor\n",
    "\n",
    "train_x = torch.cat( [tensors for tensors in tensor_list] )\n",
    "train_y = torch.cat( [torch.stack( [ target(len(tensor_list), i) for j in range(tensor_list[i].size(0)) ]) for i in range(len(tensor_list)) ] )\n",
    "\n",
    "train_x.shape, train_y.shape"
   ]
  },
  {
   "cell_type": "code",
   "execution_count": 9,
   "id": "b812dbb4-b6a0-4ffe-911c-7756a9cc993e",
   "metadata": {},
   "outputs": [
    {
     "data": {
      "text/plain": [
       "(torch.Size([10000, 784]), torch.Size([10000, 10]))"
      ]
     },
     "execution_count": 9,
     "metadata": {},
     "output_type": "execute_result"
    }
   ],
   "source": [
    "test_x = torch.cat( [tensors for tensors in test_list] )\n",
    "test_y = torch.cat( [torch.stack( [ target(len(test_list), i) for j in range(test_list[i].size(0)) ]) for i in range(len(test_list)) ] )\n",
    "\n",
    "test_x.shape, test_y.shape"
   ]
  },
  {
   "cell_type": "code",
   "execution_count": 10,
   "id": "b7500bf0-0444-4386-861a-25f5e6527cdd",
   "metadata": {},
   "outputs": [
    {
     "data": {
      "text/plain": [
       "(tensor([1., 0., 0., 0., 0., 0., 0., 0., 0., 0.]),\n",
       " tensor([0., 1., 0., 0., 0., 0., 0., 0., 0., 0.]),\n",
       " tensor([0., 0., 0., 0., 0., 0., 0., 0., 1., 0.]))"
      ]
     },
     "execution_count": 10,
     "metadata": {},
     "output_type": "execute_result"
    }
   ],
   "source": [
    "train_y[5], train_y[10000], train_y[50000]"
   ]
  },
  {
   "cell_type": "code",
   "execution_count": 13,
   "id": "136969ac-e9c0-4489-a14f-84a1120765ac",
   "metadata": {},
   "outputs": [
    {
     "data": {
      "text/plain": [
       "(tensor([1., 0., 0., 0., 0., 0., 0., 0., 0., 0.]),\n",
       " tensor([0., 0., 0., 0., 1., 0., 0., 0., 0., 0.]),\n",
       " tensor([0., 0., 0., 0., 0., 0., 0., 0., 1., 0.]))"
      ]
     },
     "execution_count": 13,
     "metadata": {},
     "output_type": "execute_result"
    }
   ],
   "source": [
    "test_y[5], test_y[5000], test_y[8789]"
   ]
  },
  {
   "cell_type": "markdown",
   "id": "74f5145b-1cce-47ea-a6f6-0e0560a3797d",
   "metadata": {},
   "source": [
    "Run network"
   ]
  },
  {
   "cell_type": "code",
   "execution_count": 92,
   "id": "2fcc9b25-ed72-41f5-91d5-1dd5c6f4f93b",
   "metadata": {},
   "outputs": [
    {
     "name": "stdout",
     "output_type": "stream",
     "text": [
      "epoch 0\n"
     ]
    },
    {
     "name": "stderr",
     "output_type": "stream",
     "text": [
      "/tmp/ipykernel_469/396899036.py:32: UserWarning: Implicit dimension choice for softmax has been deprecated. Change the call to include dim=X as an argument.\n",
      "  res = torch.nn.functional.softmax( res )\n"
     ]
    },
    {
     "name": "stdout",
     "output_type": "stream",
     "text": [
      "Accuracy 0.1158\n",
      "epoch 1\n",
      "Accuracy 0.116\n",
      "epoch 2\n",
      "Accuracy 0.1163\n",
      "epoch 3\n",
      "Accuracy 0.1166\n",
      "epoch 4\n",
      "Accuracy 0.1168\n",
      "epoch 5\n",
      "Accuracy 0.1172\n",
      "epoch 6\n",
      "Accuracy 0.1181\n",
      "epoch 7\n",
      "Accuracy 0.1186\n",
      "epoch 8\n",
      "Accuracy 0.1195\n",
      "epoch 9\n",
      "Accuracy 0.1199\n"
     ]
    }
   ],
   "source": [
    "model = Model()\n",
    "optimizer = BasicOptimizer(model, 0.001)\n",
    "\n",
    "dset = list(zip(train_x,train_y))\n",
    "dl = DataLoader(dset, batch_size=256)\n",
    "\n",
    "val_dset = list(zip(test_x,test_y))\n",
    "val_dl = DataLoader(val_dset, batch_size=256)\n",
    "\n",
    "network = SimpleNetwork(dl, val_dl,model, optimizer)\n",
    "\n",
    "network.learn(10)"
   ]
  },
  {
   "cell_type": "code",
   "execution_count": null,
   "id": "a767236c-a817-4660-8f1b-ffc9785aa063",
   "metadata": {},
   "outputs": [],
   "source": []
  }
 ],
 "metadata": {
  "kernelspec": {
   "display_name": "fastbook",
   "language": "python",
   "name": "fastbook"
  },
  "language_info": {
   "codemirror_mode": {
    "name": "ipython",
    "version": 3
   },
   "file_extension": ".py",
   "mimetype": "text/x-python",
   "name": "python",
   "nbconvert_exporter": "python",
   "pygments_lexer": "ipython3",
   "version": "3.10.11"
  }
 },
 "nbformat": 4,
 "nbformat_minor": 5
}
