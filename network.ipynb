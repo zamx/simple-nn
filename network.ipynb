{
 "cells": [
  {
   "cell_type": "code",
   "execution_count": 4,
   "id": "ad5a1e1d-2c39-439e-b5ad-7c7505940c1c",
   "metadata": {},
   "outputs": [],
   "source": [
    "from fastai.vision.all import *"
   ]
  },
  {
   "cell_type": "markdown",
   "id": "d4534610-3a3f-46d5-bff2-76bc337e80c4",
   "metadata": {},
   "source": [
    "Load training data"
   ]
  },
  {
   "cell_type": "code",
   "execution_count": null,
   "id": "79343eb3-eb81-46a9-92e0-f9f43eb8ca8e",
   "metadata": {},
   "outputs": [],
   "source": [
    "tensor_list = torch.load( \"training_data.pt\" )"
   ]
  },
  {
   "cell_type": "markdown",
   "id": "a06e896a-b811-4f10-b455-d758b014548b",
   "metadata": {},
   "source": [
    "Load test data"
   ]
  },
  {
   "cell_type": "code",
   "execution_count": 15,
   "id": "6fc71115-a336-4549-8495-3b20f18212f9",
   "metadata": {},
   "outputs": [],
   "source": [
    "test_list = torch.load(\"test_data.pt\")"
   ]
  },
  {
   "cell_type": "markdown",
   "id": "a616adf3-bc5b-4fb7-947d-70257e2c8f39",
   "metadata": {},
   "source": [
    "Normalize"
   ]
  },
  {
   "cell_type": "code",
   "execution_count": 24,
   "id": "8803de84-e092-48ea-a3e4-98c0ab4f8156",
   "metadata": {},
   "outputs": [],
   "source": [
    "def normalize(tensor):\n",
    "    return tensor.float() / 255\n",
    "\n",
    "tensor_list = list(map(normalize, tensor_list))\n",
    "test_list = list(map(normalize, test_list))"
   ]
  },
  {
   "cell_type": "markdown",
   "id": "9e899eca-6512-4456-b98a-04b6380af085",
   "metadata": {},
   "source": [
    "Baseline"
   ]
  },
  {
   "cell_type": "code",
   "execution_count": 45,
   "id": "cc2fbd69-dc4b-4bef-85e0-c01f967346a8",
   "metadata": {},
   "outputs": [
    {
     "data": {
      "text/plain": [
       "10"
      ]
     },
     "execution_count": 45,
     "metadata": {},
     "output_type": "execute_result"
    }
   ],
   "source": [
    "mean_tensors = [tensor.mean(0) for tensor in tensor_list]\n",
    "len(mean_tensors)"
   ]
  },
  {
   "cell_type": "code",
   "execution_count": 46,
   "id": "559acf7f-78e4-452c-9627-2d8b9e7b3b5c",
   "metadata": {},
   "outputs": [
    {
     "data": {
      "text/plain": [
       "[tensor(True),\n",
       " tensor(True),\n",
       " tensor(True),\n",
       " tensor(True),\n",
       " tensor(True),\n",
       " tensor(False),\n",
       " tensor(True),\n",
       " tensor(True),\n",
       " tensor(True),\n",
       " tensor(True)]"
      ]
     },
     "execution_count": 46,
     "metadata": {},
     "output_type": "execute_result"
    }
   ],
   "source": [
    "def mseMean(mean, tensor):\n",
    "    return  F.mse_loss(mean, tensor).sqrt()\n",
    "\n",
    "def mseMeanList(means, tensor):\n",
    "    return torch.stack( [mseMean(mean,tensor) for mean in means] )\n",
    "\n",
    "def predict(means, tests, index):\n",
    "    return torch.argmin( mseMeanList(means, tests[index]) ) == index\n",
    "\n",
    "prediction = [predict(mean_tensors, test_list, i) for i in range(len(test_list))]\n",
    "prediction"
   ]
  },
  {
   "cell_type": "markdown",
   "id": "18fe43c9-9ac7-4361-a20a-620ec5916dd7",
   "metadata": {},
   "source": [
    "Simple network"
   ]
  },
  {
   "cell_type": "code",
   "execution_count": null,
   "id": "11e03ff9-004d-496d-9c23-0ca5f42867fa",
   "metadata": {},
   "outputs": [],
   "source": []
  }
 ],
 "metadata": {
  "kernelspec": {
   "display_name": "fastbook",
   "language": "python",
   "name": "fastbook"
  },
  "language_info": {
   "codemirror_mode": {
    "name": "ipython",
    "version": 3
   },
   "file_extension": ".py",
   "mimetype": "text/x-python",
   "name": "python",
   "nbconvert_exporter": "python",
   "pygments_lexer": "ipython3",
   "version": "3.10.11"
  }
 },
 "nbformat": 4,
 "nbformat_minor": 5
}
