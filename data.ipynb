{
 "cells": [
  {
   "cell_type": "code",
   "execution_count": 1,
   "id": "f51e3967-250c-476a-8236-ffd2712019ae",
   "metadata": {},
   "outputs": [],
   "source": [
    "from fastai.vision.all import *"
   ]
  },
  {
   "cell_type": "code",
   "execution_count": 2,
   "id": "2679bad0-8347-4f13-a59a-adc69365b748",
   "metadata": {},
   "outputs": [
    {
     "data": {
      "text/plain": [
       "(#2) [Path('/home/sam/.fastai/data/mnist_png/testing'),Path('/home/sam/.fastai/data/mnist_png/training')]"
      ]
     },
     "execution_count": 2,
     "metadata": {},
     "output_type": "execute_result"
    }
   ],
   "source": [
    "path = untar_data(URLs.MNIST)\n",
    "path.ls()"
   ]
  },
  {
   "cell_type": "code",
   "execution_count": 3,
   "id": "06f5d0ca-a992-4ba8-8a4b-1af2619c77dc",
   "metadata": {},
   "outputs": [],
   "source": [
    "dl = ImageDataLoaders.from_folder(\n",
    "    path, \n",
    "    train=\"training\", \n",
    "    seed = 21, \n",
    "    valid_pct=0.2\n",
    ")"
   ]
  },
  {
   "cell_type": "code",
   "execution_count": 4,
   "id": "a7a77f42-5da9-477c-a8de-87d758f82d1d",
   "metadata": {},
   "outputs": [
    {
     "data": {
      "text/plain": [
       "[(#5923) [Path('/home/sam/.fastai/data/mnist_png/training/0/32746.png'),Path('/home/sam/.fastai/data/mnist_png/training/0/24105.png'),Path('/home/sam/.fastai/data/mnist_png/training/0/22046.png'),Path('/home/sam/.fastai/data/mnist_png/training/0/43727.png'),Path('/home/sam/.fastai/data/mnist_png/training/0/30473.png'),Path('/home/sam/.fastai/data/mnist_png/training/0/26055.png'),Path('/home/sam/.fastai/data/mnist_png/training/0/51365.png'),Path('/home/sam/.fastai/data/mnist_png/training/0/58647.png'),Path('/home/sam/.fastai/data/mnist_png/training/0/19646.png'),Path('/home/sam/.fastai/data/mnist_png/training/0/35923.png')...],\n",
       " (#6742) [Path('/home/sam/.fastai/data/mnist_png/training/1/38263.png'),Path('/home/sam/.fastai/data/mnist_png/training/1/50667.png'),Path('/home/sam/.fastai/data/mnist_png/training/1/40878.png'),Path('/home/sam/.fastai/data/mnist_png/training/1/31950.png'),Path('/home/sam/.fastai/data/mnist_png/training/1/31038.png'),Path('/home/sam/.fastai/data/mnist_png/training/1/28586.png'),Path('/home/sam/.fastai/data/mnist_png/training/1/1680.png'),Path('/home/sam/.fastai/data/mnist_png/training/1/57094.png'),Path('/home/sam/.fastai/data/mnist_png/training/1/13392.png'),Path('/home/sam/.fastai/data/mnist_png/training/1/1365.png')...],\n",
       " (#5958) [Path('/home/sam/.fastai/data/mnist_png/training/2/17080.png'),Path('/home/sam/.fastai/data/mnist_png/training/2/39118.png'),Path('/home/sam/.fastai/data/mnist_png/training/2/31276.png'),Path('/home/sam/.fastai/data/mnist_png/training/2/40333.png'),Path('/home/sam/.fastai/data/mnist_png/training/2/49074.png'),Path('/home/sam/.fastai/data/mnist_png/training/2/14837.png'),Path('/home/sam/.fastai/data/mnist_png/training/2/58962.png'),Path('/home/sam/.fastai/data/mnist_png/training/2/39644.png'),Path('/home/sam/.fastai/data/mnist_png/training/2/26821.png'),Path('/home/sam/.fastai/data/mnist_png/training/2/48525.png')...],\n",
       " (#6131) [Path('/home/sam/.fastai/data/mnist_png/training/3/31989.png'),Path('/home/sam/.fastai/data/mnist_png/training/3/39706.png'),Path('/home/sam/.fastai/data/mnist_png/training/3/2087.png'),Path('/home/sam/.fastai/data/mnist_png/training/3/34368.png'),Path('/home/sam/.fastai/data/mnist_png/training/3/33468.png'),Path('/home/sam/.fastai/data/mnist_png/training/3/18307.png'),Path('/home/sam/.fastai/data/mnist_png/training/3/24104.png'),Path('/home/sam/.fastai/data/mnist_png/training/3/42678.png'),Path('/home/sam/.fastai/data/mnist_png/training/3/21584.png'),Path('/home/sam/.fastai/data/mnist_png/training/3/45946.png')...],\n",
       " (#5842) [Path('/home/sam/.fastai/data/mnist_png/training/4/40444.png'),Path('/home/sam/.fastai/data/mnist_png/training/4/22071.png'),Path('/home/sam/.fastai/data/mnist_png/training/4/53988.png'),Path('/home/sam/.fastai/data/mnist_png/training/4/54617.png'),Path('/home/sam/.fastai/data/mnist_png/training/4/5623.png'),Path('/home/sam/.fastai/data/mnist_png/training/4/43516.png'),Path('/home/sam/.fastai/data/mnist_png/training/4/50699.png'),Path('/home/sam/.fastai/data/mnist_png/training/4/37945.png'),Path('/home/sam/.fastai/data/mnist_png/training/4/40913.png'),Path('/home/sam/.fastai/data/mnist_png/training/4/47566.png')...],\n",
       " (#5421) [Path('/home/sam/.fastai/data/mnist_png/training/5/43676.png'),Path('/home/sam/.fastai/data/mnist_png/training/5/53907.png'),Path('/home/sam/.fastai/data/mnist_png/training/5/22819.png'),Path('/home/sam/.fastai/data/mnist_png/training/5/30553.png'),Path('/home/sam/.fastai/data/mnist_png/training/5/27193.png'),Path('/home/sam/.fastai/data/mnist_png/training/5/18808.png'),Path('/home/sam/.fastai/data/mnist_png/training/5/58134.png'),Path('/home/sam/.fastai/data/mnist_png/training/5/43357.png'),Path('/home/sam/.fastai/data/mnist_png/training/5/30544.png'),Path('/home/sam/.fastai/data/mnist_png/training/5/266.png')...],\n",
       " (#5918) [Path('/home/sam/.fastai/data/mnist_png/training/6/49828.png'),Path('/home/sam/.fastai/data/mnist_png/training/6/55913.png'),Path('/home/sam/.fastai/data/mnist_png/training/6/2533.png'),Path('/home/sam/.fastai/data/mnist_png/training/6/38856.png'),Path('/home/sam/.fastai/data/mnist_png/training/6/30279.png'),Path('/home/sam/.fastai/data/mnist_png/training/6/8398.png'),Path('/home/sam/.fastai/data/mnist_png/training/6/29138.png'),Path('/home/sam/.fastai/data/mnist_png/training/6/5466.png'),Path('/home/sam/.fastai/data/mnist_png/training/6/26516.png'),Path('/home/sam/.fastai/data/mnist_png/training/6/43161.png')...],\n",
       " (#6265) [Path('/home/sam/.fastai/data/mnist_png/training/7/57177.png'),Path('/home/sam/.fastai/data/mnist_png/training/7/34278.png'),Path('/home/sam/.fastai/data/mnist_png/training/7/21641.png'),Path('/home/sam/.fastai/data/mnist_png/training/7/30432.png'),Path('/home/sam/.fastai/data/mnist_png/training/7/7730.png'),Path('/home/sam/.fastai/data/mnist_png/training/7/12188.png'),Path('/home/sam/.fastai/data/mnist_png/training/7/22530.png'),Path('/home/sam/.fastai/data/mnist_png/training/7/5022.png'),Path('/home/sam/.fastai/data/mnist_png/training/7/24375.png'),Path('/home/sam/.fastai/data/mnist_png/training/7/25021.png')...],\n",
       " (#5851) [Path('/home/sam/.fastai/data/mnist_png/training/8/34974.png'),Path('/home/sam/.fastai/data/mnist_png/training/8/36677.png'),Path('/home/sam/.fastai/data/mnist_png/training/8/17688.png'),Path('/home/sam/.fastai/data/mnist_png/training/8/52044.png'),Path('/home/sam/.fastai/data/mnist_png/training/8/4501.png'),Path('/home/sam/.fastai/data/mnist_png/training/8/31034.png'),Path('/home/sam/.fastai/data/mnist_png/training/8/54162.png'),Path('/home/sam/.fastai/data/mnist_png/training/8/10738.png'),Path('/home/sam/.fastai/data/mnist_png/training/8/16416.png'),Path('/home/sam/.fastai/data/mnist_png/training/8/18872.png')...],\n",
       " (#5949) [Path('/home/sam/.fastai/data/mnist_png/training/9/25323.png'),Path('/home/sam/.fastai/data/mnist_png/training/9/13326.png'),Path('/home/sam/.fastai/data/mnist_png/training/9/16477.png'),Path('/home/sam/.fastai/data/mnist_png/training/9/19109.png'),Path('/home/sam/.fastai/data/mnist_png/training/9/49710.png'),Path('/home/sam/.fastai/data/mnist_png/training/9/44085.png'),Path('/home/sam/.fastai/data/mnist_png/training/9/28530.png'),Path('/home/sam/.fastai/data/mnist_png/training/9/24270.png'),Path('/home/sam/.fastai/data/mnist_png/training/9/24337.png'),Path('/home/sam/.fastai/data/mnist_png/training/9/25585.png')...]]"
      ]
     },
     "execution_count": 4,
     "metadata": {},
     "output_type": "execute_result"
    }
   ],
   "source": [
    "training_files = [ (path/\"training\"/label).ls() for label in dl.train.vocab ]\n",
    "training_files"
   ]
  },
  {
   "cell_type": "code",
   "execution_count": 5,
   "id": "81fb3b25-1473-4fbc-becd-c9bde9cb5ec2",
   "metadata": {},
   "outputs": [
    {
     "data": {
      "text/plain": [
       "torch.Size([5923, 784])"
      ]
     },
     "execution_count": 5,
     "metadata": {},
     "output_type": "execute_result"
    }
   ],
   "source": [
    "def createTensorsFromImage(images):\n",
    "    tensors = torch.stack( [tensor(Image.open(file)) for file in images] )\n",
    "    return tensors.view(-1, 28*28)\n",
    "\n",
    "test = createTensorsFromImage(training_files[0])\n",
    "test.shape"
   ]
  },
  {
   "cell_type": "code",
   "execution_count": 6,
   "id": "4314d7d4-1962-4941-b413-e87c1175d55d",
   "metadata": {},
   "outputs": [
    {
     "data": {
      "text/plain": [
       "[tensor([[0, 0, 0,  ..., 0, 0, 0],\n",
       "         [0, 0, 0,  ..., 0, 0, 0],\n",
       "         [0, 0, 0,  ..., 0, 0, 0],\n",
       "         ...,\n",
       "         [0, 0, 0,  ..., 0, 0, 0],\n",
       "         [0, 0, 0,  ..., 0, 0, 0],\n",
       "         [0, 0, 0,  ..., 0, 0, 0]], dtype=torch.uint8),\n",
       " tensor([[0, 0, 0,  ..., 0, 0, 0],\n",
       "         [0, 0, 0,  ..., 0, 0, 0],\n",
       "         [0, 0, 0,  ..., 0, 0, 0],\n",
       "         ...,\n",
       "         [0, 0, 0,  ..., 0, 0, 0],\n",
       "         [0, 0, 0,  ..., 0, 0, 0],\n",
       "         [0, 0, 0,  ..., 0, 0, 0]], dtype=torch.uint8),\n",
       " tensor([[0, 0, 0,  ..., 0, 0, 0],\n",
       "         [0, 0, 0,  ..., 0, 0, 0],\n",
       "         [0, 0, 0,  ..., 0, 0, 0],\n",
       "         ...,\n",
       "         [0, 0, 0,  ..., 0, 0, 0],\n",
       "         [0, 0, 0,  ..., 0, 0, 0],\n",
       "         [0, 0, 0,  ..., 0, 0, 0]], dtype=torch.uint8),\n",
       " tensor([[0, 0, 0,  ..., 0, 0, 0],\n",
       "         [0, 0, 0,  ..., 0, 0, 0],\n",
       "         [0, 0, 0,  ..., 0, 0, 0],\n",
       "         ...,\n",
       "         [0, 0, 0,  ..., 0, 0, 0],\n",
       "         [0, 0, 0,  ..., 0, 0, 0],\n",
       "         [0, 0, 0,  ..., 0, 0, 0]], dtype=torch.uint8),\n",
       " tensor([[0, 0, 0,  ..., 0, 0, 0],\n",
       "         [0, 0, 0,  ..., 0, 0, 0],\n",
       "         [0, 0, 0,  ..., 0, 0, 0],\n",
       "         ...,\n",
       "         [0, 0, 0,  ..., 0, 0, 0],\n",
       "         [0, 0, 0,  ..., 0, 0, 0],\n",
       "         [0, 0, 0,  ..., 0, 0, 0]], dtype=torch.uint8),\n",
       " tensor([[0, 0, 0,  ..., 0, 0, 0],\n",
       "         [0, 0, 0,  ..., 0, 0, 0],\n",
       "         [0, 0, 0,  ..., 0, 0, 0],\n",
       "         ...,\n",
       "         [0, 0, 0,  ..., 0, 0, 0],\n",
       "         [0, 0, 0,  ..., 0, 0, 0],\n",
       "         [0, 0, 0,  ..., 0, 0, 0]], dtype=torch.uint8),\n",
       " tensor([[0, 0, 0,  ..., 0, 0, 0],\n",
       "         [0, 0, 0,  ..., 0, 0, 0],\n",
       "         [0, 0, 0,  ..., 0, 0, 0],\n",
       "         ...,\n",
       "         [0, 0, 0,  ..., 0, 0, 0],\n",
       "         [0, 0, 0,  ..., 0, 0, 0],\n",
       "         [0, 0, 0,  ..., 0, 0, 0]], dtype=torch.uint8),\n",
       " tensor([[0, 0, 0,  ..., 0, 0, 0],\n",
       "         [0, 0, 0,  ..., 0, 0, 0],\n",
       "         [0, 0, 0,  ..., 0, 0, 0],\n",
       "         ...,\n",
       "         [0, 0, 0,  ..., 0, 0, 0],\n",
       "         [0, 0, 0,  ..., 0, 0, 0],\n",
       "         [0, 0, 0,  ..., 0, 0, 0]], dtype=torch.uint8),\n",
       " tensor([[0, 0, 0,  ..., 0, 0, 0],\n",
       "         [0, 0, 0,  ..., 0, 0, 0],\n",
       "         [0, 0, 0,  ..., 0, 0, 0],\n",
       "         ...,\n",
       "         [0, 0, 0,  ..., 0, 0, 0],\n",
       "         [0, 0, 0,  ..., 0, 0, 0],\n",
       "         [0, 0, 0,  ..., 0, 0, 0]], dtype=torch.uint8),\n",
       " tensor([[0, 0, 0,  ..., 0, 0, 0],\n",
       "         [0, 0, 0,  ..., 0, 0, 0],\n",
       "         [0, 0, 0,  ..., 0, 0, 0],\n",
       "         ...,\n",
       "         [0, 0, 0,  ..., 0, 0, 0],\n",
       "         [0, 0, 0,  ..., 0, 0, 0],\n",
       "         [0, 0, 0,  ..., 0, 0, 0]], dtype=torch.uint8)]"
      ]
     },
     "execution_count": 6,
     "metadata": {},
     "output_type": "execute_result"
    }
   ],
   "source": [
    "tensors_list = [createTensorsFromImage(files) for files in training_files]\n",
    "tensors_list"
   ]
  },
  {
   "cell_type": "code",
   "execution_count": 7,
   "id": "91f00aa9-2974-4c1f-838e-99cb3c2de20a",
   "metadata": {},
   "outputs": [],
   "source": [
    "torch.save(tensors_list, \"training_data.pt\")"
   ]
  },
  {
   "cell_type": "markdown",
   "id": "181a5b32-85cf-4d17-bb6b-7cb7cdbaae4f",
   "metadata": {},
   "source": [
    "Create some test data"
   ]
  },
  {
   "cell_type": "code",
   "execution_count": 10,
   "id": "77fe41f4-1317-45e3-a925-52e1d82372dd",
   "metadata": {},
   "outputs": [],
   "source": [
    "test_files = [ (path/\"testing\"/label).ls() for label in dl.train.vocab ]\n",
    "test_files\n",
    "\n",
    "test_tensors_list = [createTensorsFromImage(files) for files in test_files]"
   ]
  },
  {
   "cell_type": "code",
   "execution_count": 11,
   "id": "efbb260d-a745-4928-91f1-1cdeaaac0dd8",
   "metadata": {},
   "outputs": [],
   "source": [
    "torch.save(test_tensors_list, \"test_data.pt\")"
   ]
  },
  {
   "cell_type": "code",
   "execution_count": null,
   "id": "109010f5-08e5-4dd9-87d7-5a4ff4c4c42b",
   "metadata": {},
   "outputs": [],
   "source": []
  }
 ],
 "metadata": {
  "kernelspec": {
   "display_name": "fastbook",
   "language": "python",
   "name": "fastbook"
  },
  "language_info": {
   "codemirror_mode": {
    "name": "ipython",
    "version": 3
   },
   "file_extension": ".py",
   "mimetype": "text/x-python",
   "name": "python",
   "nbconvert_exporter": "python",
   "pygments_lexer": "ipython3",
   "version": "3.10.11"
  }
 },
 "nbformat": 4,
 "nbformat_minor": 5
}
