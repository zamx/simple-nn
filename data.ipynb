{
 "cells": [
  {
   "cell_type": "code",
   "execution_count": 7,
   "id": "f51e3967-250c-476a-8236-ffd2712019ae",
   "metadata": {},
   "outputs": [],
   "source": [
    "from fastai.vision.all import *"
   ]
  },
  {
   "cell_type": "code",
   "execution_count": 8,
   "id": "2679bad0-8347-4f13-a59a-adc69365b748",
   "metadata": {},
   "outputs": [
    {
     "data": {
      "text/plain": [
       "(#2) [Path('/home/sam/.fastai/data/mnist_png/testing'),Path('/home/sam/.fastai/data/mnist_png/training')]"
      ]
     },
     "execution_count": 8,
     "metadata": {},
     "output_type": "execute_result"
    }
   ],
   "source": [
    "path = untar_data(URLs.MNIST)\n",
    "path.ls()"
   ]
  },
  {
   "cell_type": "code",
   "execution_count": 9,
   "id": "06f5d0ca-a992-4ba8-8a4b-1af2619c77dc",
   "metadata": {},
   "outputs": [],
   "source": [
    "dl = ImageDataLoaders.from_folder(\n",
    "    path, \n",
    "    train=\"training\", \n",
    "    seed = 21, \n",
    "    valid_pct=0.2\n",
    ")"
   ]
  },
  {
   "cell_type": "code",
   "execution_count": 10,
   "id": "a7a77f42-5da9-477c-a8de-87d758f82d1d",
   "metadata": {},
   "outputs": [
    {
     "data": {
      "text/plain": [
       "[(#5923) [Path('/home/sam/.fastai/data/mnist_png/training/0/32746.png'),Path('/home/sam/.fastai/data/mnist_png/training/0/24105.png'),Path('/home/sam/.fastai/data/mnist_png/training/0/22046.png'),Path('/home/sam/.fastai/data/mnist_png/training/0/43727.png'),Path('/home/sam/.fastai/data/mnist_png/training/0/30473.png'),Path('/home/sam/.fastai/data/mnist_png/training/0/26055.png'),Path('/home/sam/.fastai/data/mnist_png/training/0/51365.png'),Path('/home/sam/.fastai/data/mnist_png/training/0/58647.png'),Path('/home/sam/.fastai/data/mnist_png/training/0/19646.png'),Path('/home/sam/.fastai/data/mnist_png/training/0/35923.png')...],\n",
       " (#6742) [Path('/home/sam/.fastai/data/mnist_png/training/1/38263.png'),Path('/home/sam/.fastai/data/mnist_png/training/1/50667.png'),Path('/home/sam/.fastai/data/mnist_png/training/1/40878.png'),Path('/home/sam/.fastai/data/mnist_png/training/1/31950.png'),Path('/home/sam/.fastai/data/mnist_png/training/1/31038.png'),Path('/home/sam/.fastai/data/mnist_png/training/1/28586.png'),Path('/home/sam/.fastai/data/mnist_png/training/1/1680.png'),Path('/home/sam/.fastai/data/mnist_png/training/1/57094.png'),Path('/home/sam/.fastai/data/mnist_png/training/1/13392.png'),Path('/home/sam/.fastai/data/mnist_png/training/1/1365.png')...],\n",
       " (#5958) [Path('/home/sam/.fastai/data/mnist_png/training/2/17080.png'),Path('/home/sam/.fastai/data/mnist_png/training/2/39118.png'),Path('/home/sam/.fastai/data/mnist_png/training/2/31276.png'),Path('/home/sam/.fastai/data/mnist_png/training/2/40333.png'),Path('/home/sam/.fastai/data/mnist_png/training/2/49074.png'),Path('/home/sam/.fastai/data/mnist_png/training/2/14837.png'),Path('/home/sam/.fastai/data/mnist_png/training/2/58962.png'),Path('/home/sam/.fastai/data/mnist_png/training/2/39644.png'),Path('/home/sam/.fastai/data/mnist_png/training/2/26821.png'),Path('/home/sam/.fastai/data/mnist_png/training/2/48525.png')...],\n",
       " (#6131) [Path('/home/sam/.fastai/data/mnist_png/training/3/31989.png'),Path('/home/sam/.fastai/data/mnist_png/training/3/39706.png'),Path('/home/sam/.fastai/data/mnist_png/training/3/2087.png'),Path('/home/sam/.fastai/data/mnist_png/training/3/34368.png'),Path('/home/sam/.fastai/data/mnist_png/training/3/33468.png'),Path('/home/sam/.fastai/data/mnist_png/training/3/18307.png'),Path('/home/sam/.fastai/data/mnist_png/training/3/24104.png'),Path('/home/sam/.fastai/data/mnist_png/training/3/42678.png'),Path('/home/sam/.fastai/data/mnist_png/training/3/21584.png'),Path('/home/sam/.fastai/data/mnist_png/training/3/45946.png')...],\n",
       " (#5842) [Path('/home/sam/.fastai/data/mnist_png/training/4/40444.png'),Path('/home/sam/.fastai/data/mnist_png/training/4/22071.png'),Path('/home/sam/.fastai/data/mnist_png/training/4/53988.png'),Path('/home/sam/.fastai/data/mnist_png/training/4/54617.png'),Path('/home/sam/.fastai/data/mnist_png/training/4/5623.png'),Path('/home/sam/.fastai/data/mnist_png/training/4/43516.png'),Path('/home/sam/.fastai/data/mnist_png/training/4/50699.png'),Path('/home/sam/.fastai/data/mnist_png/training/4/37945.png'),Path('/home/sam/.fastai/data/mnist_png/training/4/40913.png'),Path('/home/sam/.fastai/data/mnist_png/training/4/47566.png')...],\n",
       " (#5421) [Path('/home/sam/.fastai/data/mnist_png/training/5/43676.png'),Path('/home/sam/.fastai/data/mnist_png/training/5/53907.png'),Path('/home/sam/.fastai/data/mnist_png/training/5/22819.png'),Path('/home/sam/.fastai/data/mnist_png/training/5/30553.png'),Path('/home/sam/.fastai/data/mnist_png/training/5/27193.png'),Path('/home/sam/.fastai/data/mnist_png/training/5/18808.png'),Path('/home/sam/.fastai/data/mnist_png/training/5/58134.png'),Path('/home/sam/.fastai/data/mnist_png/training/5/43357.png'),Path('/home/sam/.fastai/data/mnist_png/training/5/30544.png'),Path('/home/sam/.fastai/data/mnist_png/training/5/266.png')...],\n",
       " (#5918) [Path('/home/sam/.fastai/data/mnist_png/training/6/49828.png'),Path('/home/sam/.fastai/data/mnist_png/training/6/55913.png'),Path('/home/sam/.fastai/data/mnist_png/training/6/2533.png'),Path('/home/sam/.fastai/data/mnist_png/training/6/38856.png'),Path('/home/sam/.fastai/data/mnist_png/training/6/30279.png'),Path('/home/sam/.fastai/data/mnist_png/training/6/8398.png'),Path('/home/sam/.fastai/data/mnist_png/training/6/29138.png'),Path('/home/sam/.fastai/data/mnist_png/training/6/5466.png'),Path('/home/sam/.fastai/data/mnist_png/training/6/26516.png'),Path('/home/sam/.fastai/data/mnist_png/training/6/43161.png')...],\n",
       " (#6265) [Path('/home/sam/.fastai/data/mnist_png/training/7/57177.png'),Path('/home/sam/.fastai/data/mnist_png/training/7/34278.png'),Path('/home/sam/.fastai/data/mnist_png/training/7/21641.png'),Path('/home/sam/.fastai/data/mnist_png/training/7/30432.png'),Path('/home/sam/.fastai/data/mnist_png/training/7/7730.png'),Path('/home/sam/.fastai/data/mnist_png/training/7/12188.png'),Path('/home/sam/.fastai/data/mnist_png/training/7/22530.png'),Path('/home/sam/.fastai/data/mnist_png/training/7/5022.png'),Path('/home/sam/.fastai/data/mnist_png/training/7/24375.png'),Path('/home/sam/.fastai/data/mnist_png/training/7/25021.png')...],\n",
       " (#5851) [Path('/home/sam/.fastai/data/mnist_png/training/8/34974.png'),Path('/home/sam/.fastai/data/mnist_png/training/8/36677.png'),Path('/home/sam/.fastai/data/mnist_png/training/8/17688.png'),Path('/home/sam/.fastai/data/mnist_png/training/8/52044.png'),Path('/home/sam/.fastai/data/mnist_png/training/8/4501.png'),Path('/home/sam/.fastai/data/mnist_png/training/8/31034.png'),Path('/home/sam/.fastai/data/mnist_png/training/8/54162.png'),Path('/home/sam/.fastai/data/mnist_png/training/8/10738.png'),Path('/home/sam/.fastai/data/mnist_png/training/8/16416.png'),Path('/home/sam/.fastai/data/mnist_png/training/8/18872.png')...],\n",
       " (#5949) [Path('/home/sam/.fastai/data/mnist_png/training/9/25323.png'),Path('/home/sam/.fastai/data/mnist_png/training/9/13326.png'),Path('/home/sam/.fastai/data/mnist_png/training/9/16477.png'),Path('/home/sam/.fastai/data/mnist_png/training/9/19109.png'),Path('/home/sam/.fastai/data/mnist_png/training/9/49710.png'),Path('/home/sam/.fastai/data/mnist_png/training/9/44085.png'),Path('/home/sam/.fastai/data/mnist_png/training/9/28530.png'),Path('/home/sam/.fastai/data/mnist_png/training/9/24270.png'),Path('/home/sam/.fastai/data/mnist_png/training/9/24337.png'),Path('/home/sam/.fastai/data/mnist_png/training/9/25585.png')...]]"
      ]
     },
     "execution_count": 10,
     "metadata": {},
     "output_type": "execute_result"
    }
   ],
   "source": [
    "training_files = [ (path/\"training\"/label).ls() for label in dl.train.vocab ]\n",
    "training_files"
   ]
  },
  {
   "cell_type": "code",
   "execution_count": 11,
   "id": "81fb3b25-1473-4fbc-becd-c9bde9cb5ec2",
   "metadata": {},
   "outputs": [
    {
     "data": {
      "text/plain": [
       "torch.Size([5923, 784])"
      ]
     },
     "execution_count": 11,
     "metadata": {},
     "output_type": "execute_result"
    }
   ],
   "source": [
    "def createTensorsFromImage(images):\n",
    "    tensors = torch.stack( [tensor(Image.open(file)) for file in images] )\n",
    "    return tensors.view(-1, 28*28)\n",
    "\n",
    "test = createTensorsFromImage(training_files[0])\n",
    "test.shape"
   ]
  },
  {
   "cell_type": "code",
   "execution_count": 12,
   "id": "4314d7d4-1962-4941-b413-e87c1175d55d",
   "metadata": {},
   "outputs": [
    {
     "data": {
      "text/plain": [
       "[tensor([[0, 0, 0,  ..., 0, 0, 0],\n",
       "         [0, 0, 0,  ..., 0, 0, 0],\n",
       "         [0, 0, 0,  ..., 0, 0, 0],\n",
       "         ...,\n",
       "         [0, 0, 0,  ..., 0, 0, 0],\n",
       "         [0, 0, 0,  ..., 0, 0, 0],\n",
       "         [0, 0, 0,  ..., 0, 0, 0]], dtype=torch.uint8),\n",
       " tensor([[0, 0, 0,  ..., 0, 0, 0],\n",
       "         [0, 0, 0,  ..., 0, 0, 0],\n",
       "         [0, 0, 0,  ..., 0, 0, 0],\n",
       "         ...,\n",
       "         [0, 0, 0,  ..., 0, 0, 0],\n",
       "         [0, 0, 0,  ..., 0, 0, 0],\n",
       "         [0, 0, 0,  ..., 0, 0, 0]], dtype=torch.uint8),\n",
       " tensor([[0, 0, 0,  ..., 0, 0, 0],\n",
       "         [0, 0, 0,  ..., 0, 0, 0],\n",
       "         [0, 0, 0,  ..., 0, 0, 0],\n",
       "         ...,\n",
       "         [0, 0, 0,  ..., 0, 0, 0],\n",
       "         [0, 0, 0,  ..., 0, 0, 0],\n",
       "         [0, 0, 0,  ..., 0, 0, 0]], dtype=torch.uint8),\n",
       " tensor([[0, 0, 0,  ..., 0, 0, 0],\n",
       "         [0, 0, 0,  ..., 0, 0, 0],\n",
       "         [0, 0, 0,  ..., 0, 0, 0],\n",
       "         ...,\n",
       "         [0, 0, 0,  ..., 0, 0, 0],\n",
       "         [0, 0, 0,  ..., 0, 0, 0],\n",
       "         [0, 0, 0,  ..., 0, 0, 0]], dtype=torch.uint8),\n",
       " tensor([[0, 0, 0,  ..., 0, 0, 0],\n",
       "         [0, 0, 0,  ..., 0, 0, 0],\n",
       "         [0, 0, 0,  ..., 0, 0, 0],\n",
       "         ...,\n",
       "         [0, 0, 0,  ..., 0, 0, 0],\n",
       "         [0, 0, 0,  ..., 0, 0, 0],\n",
       "         [0, 0, 0,  ..., 0, 0, 0]], dtype=torch.uint8),\n",
       " tensor([[0, 0, 0,  ..., 0, 0, 0],\n",
       "         [0, 0, 0,  ..., 0, 0, 0],\n",
       "         [0, 0, 0,  ..., 0, 0, 0],\n",
       "         ...,\n",
       "         [0, 0, 0,  ..., 0, 0, 0],\n",
       "         [0, 0, 0,  ..., 0, 0, 0],\n",
       "         [0, 0, 0,  ..., 0, 0, 0]], dtype=torch.uint8),\n",
       " tensor([[0, 0, 0,  ..., 0, 0, 0],\n",
       "         [0, 0, 0,  ..., 0, 0, 0],\n",
       "         [0, 0, 0,  ..., 0, 0, 0],\n",
       "         ...,\n",
       "         [0, 0, 0,  ..., 0, 0, 0],\n",
       "         [0, 0, 0,  ..., 0, 0, 0],\n",
       "         [0, 0, 0,  ..., 0, 0, 0]], dtype=torch.uint8),\n",
       " tensor([[0, 0, 0,  ..., 0, 0, 0],\n",
       "         [0, 0, 0,  ..., 0, 0, 0],\n",
       "         [0, 0, 0,  ..., 0, 0, 0],\n",
       "         ...,\n",
       "         [0, 0, 0,  ..., 0, 0, 0],\n",
       "         [0, 0, 0,  ..., 0, 0, 0],\n",
       "         [0, 0, 0,  ..., 0, 0, 0]], dtype=torch.uint8),\n",
       " tensor([[0, 0, 0,  ..., 0, 0, 0],\n",
       "         [0, 0, 0,  ..., 0, 0, 0],\n",
       "         [0, 0, 0,  ..., 0, 0, 0],\n",
       "         ...,\n",
       "         [0, 0, 0,  ..., 0, 0, 0],\n",
       "         [0, 0, 0,  ..., 0, 0, 0],\n",
       "         [0, 0, 0,  ..., 0, 0, 0]], dtype=torch.uint8),\n",
       " tensor([[0, 0, 0,  ..., 0, 0, 0],\n",
       "         [0, 0, 0,  ..., 0, 0, 0],\n",
       "         [0, 0, 0,  ..., 0, 0, 0],\n",
       "         ...,\n",
       "         [0, 0, 0,  ..., 0, 0, 0],\n",
       "         [0, 0, 0,  ..., 0, 0, 0],\n",
       "         [0, 0, 0,  ..., 0, 0, 0]], dtype=torch.uint8)]"
      ]
     },
     "execution_count": 12,
     "metadata": {},
     "output_type": "execute_result"
    }
   ],
   "source": [
    "tensors_list = [createTensorsFromImage(files) for files in training_files]\n",
    "tensors_list"
   ]
  },
  {
   "cell_type": "code",
   "execution_count": 13,
   "id": "91f00aa9-2974-4c1f-838e-99cb3c2de20a",
   "metadata": {},
   "outputs": [],
   "source": [
    "torch.save(tensors_list, \"training_data.pt\")"
   ]
  },
  {
   "cell_type": "markdown",
   "id": "181a5b32-85cf-4d17-bb6b-7cb7cdbaae4f",
   "metadata": {},
   "source": [
    "Create some test data"
   ]
  },
  {
   "cell_type": "code",
   "execution_count": 16,
   "id": "77fe41f4-1317-45e3-a925-52e1d82372dd",
   "metadata": {},
   "outputs": [
    {
     "data": {
      "text/plain": [
       "[(#980) [Path('/home/sam/.fastai/data/mnist_png/testing/0/2087.png'),Path('/home/sam/.fastai/data/mnist_png/testing/0/7693.png'),Path('/home/sam/.fastai/data/mnist_png/testing/0/9634.png'),Path('/home/sam/.fastai/data/mnist_png/testing/0/6959.png'),Path('/home/sam/.fastai/data/mnist_png/testing/0/4720.png'),Path('/home/sam/.fastai/data/mnist_png/testing/0/8921.png'),Path('/home/sam/.fastai/data/mnist_png/testing/0/2811.png'),Path('/home/sam/.fastai/data/mnist_png/testing/0/269.png'),Path('/home/sam/.fastai/data/mnist_png/testing/0/8681.png'),Path('/home/sam/.fastai/data/mnist_png/testing/0/525.png')...],\n",
       " (#1135) [Path('/home/sam/.fastai/data/mnist_png/testing/1/4574.png'),Path('/home/sam/.fastai/data/mnist_png/testing/1/2444.png'),Path('/home/sam/.fastai/data/mnist_png/testing/1/5477.png'),Path('/home/sam/.fastai/data/mnist_png/testing/1/2355.png'),Path('/home/sam/.fastai/data/mnist_png/testing/1/9796.png'),Path('/home/sam/.fastai/data/mnist_png/testing/1/5552.png'),Path('/home/sam/.fastai/data/mnist_png/testing/1/4525.png'),Path('/home/sam/.fastai/data/mnist_png/testing/1/3148.png'),Path('/home/sam/.fastai/data/mnist_png/testing/1/3214.png'),Path('/home/sam/.fastai/data/mnist_png/testing/1/5361.png')...],\n",
       " (#1032) [Path('/home/sam/.fastai/data/mnist_png/testing/2/1365.png'),Path('/home/sam/.fastai/data/mnist_png/testing/2/6732.png'),Path('/home/sam/.fastai/data/mnist_png/testing/2/3913.png'),Path('/home/sam/.fastai/data/mnist_png/testing/2/221.png'),Path('/home/sam/.fastai/data/mnist_png/testing/2/9490.png'),Path('/home/sam/.fastai/data/mnist_png/testing/2/1207.png'),Path('/home/sam/.fastai/data/mnist_png/testing/2/8345.png'),Path('/home/sam/.fastai/data/mnist_png/testing/2/7163.png'),Path('/home/sam/.fastai/data/mnist_png/testing/2/7539.png'),Path('/home/sam/.fastai/data/mnist_png/testing/2/9521.png')...],\n",
       " (#1010) [Path('/home/sam/.fastai/data/mnist_png/testing/3/7730.png'),Path('/home/sam/.fastai/data/mnist_png/testing/3/2533.png'),Path('/home/sam/.fastai/data/mnist_png/testing/3/4501.png'),Path('/home/sam/.fastai/data/mnist_png/testing/3/5623.png'),Path('/home/sam/.fastai/data/mnist_png/testing/3/1205.png'),Path('/home/sam/.fastai/data/mnist_png/testing/3/5225.png'),Path('/home/sam/.fastai/data/mnist_png/testing/3/3515.png'),Path('/home/sam/.fastai/data/mnist_png/testing/3/4220.png'),Path('/home/sam/.fastai/data/mnist_png/testing/3/2684.png'),Path('/home/sam/.fastai/data/mnist_png/testing/3/8201.png')...],\n",
       " (#982) [Path('/home/sam/.fastai/data/mnist_png/testing/4/1680.png'),Path('/home/sam/.fastai/data/mnist_png/testing/4/1649.png'),Path('/home/sam/.fastai/data/mnist_png/testing/4/9098.png'),Path('/home/sam/.fastai/data/mnist_png/testing/4/2879.png'),Path('/home/sam/.fastai/data/mnist_png/testing/4/1157.png'),Path('/home/sam/.fastai/data/mnist_png/testing/4/9471.png'),Path('/home/sam/.fastai/data/mnist_png/testing/4/4269.png'),Path('/home/sam/.fastai/data/mnist_png/testing/4/8755.png'),Path('/home/sam/.fastai/data/mnist_png/testing/4/708.png'),Path('/home/sam/.fastai/data/mnist_png/testing/4/5720.png')...],\n",
       " (#892) [Path('/home/sam/.fastai/data/mnist_png/testing/5/8653.png'),Path('/home/sam/.fastai/data/mnist_png/testing/5/9616.png'),Path('/home/sam/.fastai/data/mnist_png/testing/5/1003.png'),Path('/home/sam/.fastai/data/mnist_png/testing/5/4131.png'),Path('/home/sam/.fastai/data/mnist_png/testing/5/3119.png'),Path('/home/sam/.fastai/data/mnist_png/testing/5/7531.png'),Path('/home/sam/.fastai/data/mnist_png/testing/5/1931.png'),Path('/home/sam/.fastai/data/mnist_png/testing/5/2727.png'),Path('/home/sam/.fastai/data/mnist_png/testing/5/2192.png'),Path('/home/sam/.fastai/data/mnist_png/testing/5/8142.png')...],\n",
       " (#958) [Path('/home/sam/.fastai/data/mnist_png/testing/6/9392.png'),Path('/home/sam/.fastai/data/mnist_png/testing/6/3744.png'),Path('/home/sam/.fastai/data/mnist_png/testing/6/7179.png'),Path('/home/sam/.fastai/data/mnist_png/testing/6/4838.png'),Path('/home/sam/.fastai/data/mnist_png/testing/6/6804.png'),Path('/home/sam/.fastai/data/mnist_png/testing/6/8042.png'),Path('/home/sam/.fastai/data/mnist_png/testing/6/5963.png'),Path('/home/sam/.fastai/data/mnist_png/testing/6/1886.png'),Path('/home/sam/.fastai/data/mnist_png/testing/6/6707.png'),Path('/home/sam/.fastai/data/mnist_png/testing/6/201.png')...],\n",
       " (#1028) [Path('/home/sam/.fastai/data/mnist_png/testing/7/8398.png'),Path('/home/sam/.fastai/data/mnist_png/testing/7/5466.png'),Path('/home/sam/.fastai/data/mnist_png/testing/7/7111.png'),Path('/home/sam/.fastai/data/mnist_png/testing/7/5610.png'),Path('/home/sam/.fastai/data/mnist_png/testing/7/6825.png'),Path('/home/sam/.fastai/data/mnist_png/testing/7/3453.png'),Path('/home/sam/.fastai/data/mnist_png/testing/7/8134.png'),Path('/home/sam/.fastai/data/mnist_png/testing/7/3079.png'),Path('/home/sam/.fastai/data/mnist_png/testing/7/941.png'),Path('/home/sam/.fastai/data/mnist_png/testing/7/5412.png')...],\n",
       " (#974) [Path('/home/sam/.fastai/data/mnist_png/testing/8/266.png'),Path('/home/sam/.fastai/data/mnist_png/testing/8/2102.png'),Path('/home/sam/.fastai/data/mnist_png/testing/8/5118.png'),Path('/home/sam/.fastai/data/mnist_png/testing/8/7027.png'),Path('/home/sam/.fastai/data/mnist_png/testing/8/4829.png'),Path('/home/sam/.fastai/data/mnist_png/testing/8/3216.png'),Path('/home/sam/.fastai/data/mnist_png/testing/8/718.png'),Path('/home/sam/.fastai/data/mnist_png/testing/8/9780.png'),Path('/home/sam/.fastai/data/mnist_png/testing/8/2783.png'),Path('/home/sam/.fastai/data/mnist_png/testing/8/2809.png')...],\n",
       " (#1009) [Path('/home/sam/.fastai/data/mnist_png/testing/9/5022.png'),Path('/home/sam/.fastai/data/mnist_png/testing/9/8184.png'),Path('/home/sam/.fastai/data/mnist_png/testing/9/9769.png'),Path('/home/sam/.fastai/data/mnist_png/testing/9/3286.png'),Path('/home/sam/.fastai/data/mnist_png/testing/9/5523.png'),Path('/home/sam/.fastai/data/mnist_png/testing/9/9562.png'),Path('/home/sam/.fastai/data/mnist_png/testing/9/9079.png'),Path('/home/sam/.fastai/data/mnist_png/testing/9/2939.png'),Path('/home/sam/.fastai/data/mnist_png/testing/9/1380.png'),Path('/home/sam/.fastai/data/mnist_png/testing/9/7616.png')...]]"
      ]
     },
     "execution_count": 16,
     "metadata": {},
     "output_type": "execute_result"
    }
   ],
   "source": [
    "test_files = [ (path/\"testing\"/label).ls() for label in dl.train.vocab ]\n",
    "test_files"
   ]
  },
  {
   "cell_type": "code",
   "execution_count": null,
   "id": "bf8c5d51-6e13-4774-85e0-72d3a4c8a4b5",
   "metadata": {},
   "outputs": [],
   "source": [
    "random.seed(555)\n",
    "\n",
    "def getRandomTensor(files):\n",
    "    index = random.randint( 0, len(files) - 1 )\n",
    "    return tensor(Image.open(files[index])).view(28*28)\n",
    "\n",
    "test = getRandomTensor(test_files[0])\n",
    "test"
   ]
  },
  {
   "cell_type": "code",
   "execution_count": 25,
   "id": "d9d512b9-a81e-45a3-b537-0fcf0d8da656",
   "metadata": {},
   "outputs": [
    {
     "data": {
      "text/plain": [
       "10"
      ]
     },
     "execution_count": 25,
     "metadata": {},
     "output_type": "execute_result"
    }
   ],
   "source": [
    "test_tensors = [getRandomTensor(file) for file in test_files]\n",
    "len(test_tensors)"
   ]
  },
  {
   "cell_type": "code",
   "execution_count": 26,
   "id": "efbb260d-a745-4928-91f1-1cdeaaac0dd8",
   "metadata": {},
   "outputs": [],
   "source": [
    "torch.save(test_tensors, \"test_data.pt\")"
   ]
  },
  {
   "cell_type": "code",
   "execution_count": null,
   "id": "109010f5-08e5-4dd9-87d7-5a4ff4c4c42b",
   "metadata": {},
   "outputs": [],
   "source": []
  }
 ],
 "metadata": {
  "kernelspec": {
   "display_name": "fastbook",
   "language": "python",
   "name": "fastbook"
  },
  "language_info": {
   "codemirror_mode": {
    "name": "ipython",
    "version": 3
   },
   "file_extension": ".py",
   "mimetype": "text/x-python",
   "name": "python",
   "nbconvert_exporter": "python",
   "pygments_lexer": "ipython3",
   "version": "3.10.11"
  }
 },
 "nbformat": 4,
 "nbformat_minor": 5
}
